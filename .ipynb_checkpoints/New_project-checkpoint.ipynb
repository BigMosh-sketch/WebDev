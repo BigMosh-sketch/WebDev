{
 "cells": [
  {
   "cell_type": "markdown",
   "id": "8eace798-16b6-49bb-bf82-c793cd27cf69",
   "metadata": {},
   "source": [
    "# Variables is a container that store a value\n",
    "a = 12\n",
    "\n",
    "print(a)"
   ]
  },
  {
   "cell_type": "code",
   "execution_count": null,
   "id": "08d36f2a-d9fc-49b7-8362-b06f104b7ed0",
   "metadata": {},
   "outputs": [
    {
     "name": "stdout",
     "output_type": "stream",
     "text": [
      "22\n"
     ]
    }
   ],
   "source": [
    "x=22\n",
    "print(x)"
   ]
  },
  {
   "cell_type": "code",
   "execution_count": null,
   "id": "13babca5-ada4-426a-985a-e2e38c754e25",
   "metadata": {},
   "outputs": [
    {
     "ename": "NameError",
     "evalue": "name 'x' is not defined",
     "output_type": "error",
     "traceback": [
      "\u001b[31m---------------------------------------------------------------------------\u001b[39m",
      "\u001b[31mNameError\u001b[39m                                 Traceback (most recent call last)",
      "\u001b[36mCell\u001b[39m\u001b[36m \u001b[39m\u001b[32mIn[1]\u001b[39m\u001b[32m, line 1\u001b[39m\n\u001b[32m----> \u001b[39m\u001b[32m1\u001b[39m \u001b[38;5;28mtype\u001b[39m(\u001b[43mx\u001b[49m)\n",
      "\u001b[31mNameError\u001b[39m: name 'x' is not defined"
     ]
    },
    {
     "data": {
      "text/plain": [
       "int"
      ]
     },
     "execution_count": 33,
     "metadata": {},
     "output_type": "execute_result"
    }
   ],
   "source": [
    "type(x)"
   ]
  },
  {
   "cell_type": "code",
   "execution_count": null,
   "id": "9bce4f5a-791c-4883-9efd-e1db65c4ef47",
   "metadata": {},
   "outputs": [
    {
     "ename": "SyntaxError",
     "evalue": "invalid syntax (2749781430.py, line 1)",
     "output_type": "error",
     "traceback": [
      "\u001b[1;36m  Cell \u001b[1;32mIn[13], line 1\u001b[1;36m\u001b[0m\n\u001b[1;33m    class(x)\u001b[0m\n\u001b[1;37m         ^\u001b[0m\n\u001b[1;31mSyntaxError\u001b[0m\u001b[1;31m:\u001b[0m invalid syntax\n"
     ]
    }
   ],
   "source": [
    "class(x)"
   ]
  },
  {
   "cell_type": "code",
   "execution_count": null,
   "id": "77f85b76",
   "metadata": {},
   "outputs": [],
   "source": []
  },
  {
   "cell_type": "code",
   "execution_count": null,
   "id": "1594b8ce-eba2-46ca-95b7-901cc3a26f36",
   "metadata": {},
   "outputs": [],
   "source": [
    "y=\"chocolate\""
   ]
  },
  {
   "cell_type": "code",
   "execution_count": null,
   "id": "de441837-2a95-430d-915f-c5fba1bfe493",
   "metadata": {},
   "outputs": [
    {
     "name": "stdout",
     "output_type": "stream",
     "text": [
      "chocolate\n"
     ]
    }
   ],
   "source": [
    "print(y)"
   ]
  },
  {
   "cell_type": "code",
   "execution_count": null,
   "id": "4afaab4a-59a0-42f8-a149-cb030f1abaf7",
   "metadata": {},
   "outputs": [
    {
     "name": "stdout",
     "output_type": "stream",
     "text": [
      "Mint chocolate chip\n"
     ]
    }
   ],
   "source": [
    "y='Mint chocolate chip'\n",
    "print(y)"
   ]
  },
  {
   "cell_type": "code",
   "execution_count": null,
   "id": "cc5046af-55c5-41b0-8a19-e3e2c3b9d30f",
   "metadata": {},
   "outputs": [
    {
     "name": "stdout",
     "output_type": "stream",
     "text": [
      "Chocolate\n",
      "Vanilla\n",
      "Rocky Road\n"
     ]
    }
   ],
   "source": [
    "x,y,z = 'Chocolate','Vanilla','Rocky Road'\n",
    "print(x)\n",
    "print(y)\n",
    "print(z)"
   ]
  },
  {
   "cell_type": "code",
   "execution_count": null,
   "id": "f0ee4779-cb42-4f90-a78c-2b96600a1838",
   "metadata": {},
   "outputs": [
    {
     "name": "stdout",
     "output_type": "stream",
     "text": [
      "Root Bear float\n",
      "Root Bear float\n",
      "Root Bear float\n"
     ]
    }
   ],
   "source": [
    "a=b=c= 'Root Bear float'\n",
    "print(a)\n",
    "print(b)\n",
    "print(c)"
   ]
  },
  {
   "cell_type": "code",
   "execution_count": null,
   "id": "18e3d01c-9404-4e1f-b7f2-e3913e3dc45f",
   "metadata": {},
   "outputs": [
    {
     "name": "stdout",
     "output_type": "stream",
     "text": [
      "Chocolate\n",
      "Vanilla\n",
      "Rocky Road\n"
     ]
    }
   ],
   "source": [
    "ice_cream = ['Chocolate','Vanilla','Rocky Road']\n",
    "x,y,z= ice_cream\n",
    "print(x)\n",
    "print(y)\n",
    "print(z)\n"
   ]
  },
  {
   "cell_type": "markdown",
   "id": "e110282f-d59c-42bf-90b2-074efb7ab17a",
   "metadata": {},
   "source": [
    "# Different ways to write python variables name\n",
    "\n"
   ]
  },
  {
   "cell_type": "code",
   "execution_count": null,
   "id": "baf94a00-c26e-4aea-b46f-a7bf92d5946b",
   "metadata": {},
   "outputs": [],
   "source": [
    "#Snake case\n",
    "test_variable_case ='vanilla swirl'"
   ]
  },
  {
   "cell_type": "code",
   "execution_count": null,
   "id": "4f0880ff-63ca-4138-9cc7-ce433fbd966d",
   "metadata": {},
   "outputs": [],
   "source": [
    "# Pascal Case\n",
    "TestVariableCase = 'Vanilla Swirl'"
   ]
  },
  {
   "cell_type": "code",
   "execution_count": null,
   "id": "c661efe5-4983-49d8-b98c-55962657a1e8",
   "metadata": {},
   "outputs": [],
   "source": [
    "# Camel Case\n",
    "testVariableCase = 'Vanilla swirl'"
   ]
  },
  {
   "cell_type": "code",
   "execution_count": null,
   "id": "882c77f1-8b65-4384-a5f8-7ef83df9bd9a",
   "metadata": {},
   "outputs": [
    {
     "name": "stdout",
     "output_type": "stream",
     "text": [
      "Vanilla Swirl\n"
     ]
    }
   ],
   "source": [
    "# others\n",
    "_testvariable = 'Vanilla Swirl'\n",
    "testvariable2 = 'Vanilla Swirl'\n",
    "\n",
    "\n",
    "print(_testvariable)"
   ]
  },
  {
   "cell_type": "code",
   "execution_count": null,
   "id": "341f23f2-10c9-4d1f-bc6d-e3dfb378ca8b",
   "metadata": {},
   "outputs": [
    {
     "ename": "TypeError",
     "evalue": "can only concatenate str (not \"int\") to str",
     "output_type": "error",
     "traceback": [
      "\u001b[1;31m---------------------------------------------------------------------------\u001b[0m",
      "\u001b[1;31mTypeError\u001b[0m                                 Traceback (most recent call last)",
      "Cell \u001b[1;32mIn[23], line 1\u001b[0m\n\u001b[1;32m----> 1\u001b[0m x \u001b[38;5;241m=\u001b[39m \u001b[38;5;124m'\u001b[39m\u001b[38;5;124mIce cream is my favorite\u001b[39m\u001b[38;5;124m'\u001b[39m \u001b[38;5;241m+\u001b[39m  \u001b[38;5;241m2\u001b[39m\n\u001b[0;32m      2\u001b[0m \u001b[38;5;28mprint\u001b[39m(x)\n",
      "\u001b[1;31mTypeError\u001b[0m: can only concatenate str (not \"int\") to str"
     ]
    }
   ],
   "source": [
    "# string + int = not acceptable\n",
    "x = 'Ice cream is my favorite' +  2\n",
    "print(x)"
   ]
  },
  {
   "cell_type": "code",
   "execution_count": null,
   "id": "29749a6c-fc11-47f0-a62b-fbc9f3c07304",
   "metadata": {},
   "outputs": [
    {
     "name": "stdout",
     "output_type": "stream",
     "text": [
      "Ice cream is my favorite.\n",
      "Íce Cream is  my favorite\n"
     ]
    }
   ],
   "source": [
    "#  string + string = acceptable\n",
    "x = 'Ice cream is my favorite' +  '.'\n",
    "print(x)\n",
    "\n",
    "\n",
    "\n",
    "x = 'Íce Cream'\n",
    "y = ' is '\n",
    "z = ' my favorite'\n",
    "print (x+y+z)"
   ]
  },
  {
   "cell_type": "code",
   "execution_count": null,
   "id": "dc5a5528-1f87-46b3-a08a-3a7fd7ff4197",
   "metadata": {},
   "outputs": [
    {
     "name": "stdout",
     "output_type": "stream",
     "text": [
      "3\n"
     ]
    }
   ],
   "source": [
    "# int + int = acceptable\n",
    "y = 1 + 2\n",
    "print (y)"
   ]
  },
  {
   "cell_type": "markdown",
   "id": "ab328641-d579-4e35-96c1-559016376073",
   "metadata": {},
   "source": [
    "# Data Types\n"
   ]
  },
  {
   "cell_type": "code",
   "execution_count": null,
   "id": "1e61b5bd-0808-4ba6-8cf5-4952ab5fe659",
   "metadata": {},
   "outputs": [
    {
     "data": {
      "text/plain": [
       "complex"
      ]
     },
     "execution_count": 30,
     "metadata": {},
     "output_type": "execute_result"
    }
   ],
   "source": [
    "# int , float , Complex \n",
    "type(-12)\n",
    "type (10.2)\n",
    "type(3 + 45j)"
   ]
  },
  {
   "cell_type": "code",
   "execution_count": null,
   "id": "93600ee6-b845-457e-b51c-80289a71a413",
   "metadata": {},
   "outputs": [
    {
     "data": {
      "text/plain": [
       "bool"
      ]
     },
     "execution_count": 38,
     "metadata": {},
     "output_type": "execute_result"
    }
   ],
   "source": [
    "# Boolean\n",
    "\n",
    "type(False)\n",
    "type(1>2)\n"
   ]
  },
  {
   "cell_type": "code",
   "execution_count": null,
   "id": "cfe6c1b4-6ed4-4692-9578-20ee576a7e09",
   "metadata": {},
   "outputs": [],
   "source": [
    "# strings\n",
    "'Single Quote'\n",
    "'Double Quote'\n"
   ]
  },
  {
   "cell_type": "code",
   "execution_count": null,
   "id": "8f654469-79dc-40a0-a6bb-1c8033daabec",
   "metadata": {},
   "outputs": [],
   "source": [
    "multilines  = \"\"\"\n",
    "The ice cream vanquished \n",
    "my longing for sweets,\n",
    "upon this diet I look away,\n",
    "it no longer existz on this day.\n",
    "\"\"\""
   ]
  },
  {
   "cell_type": "code",
   "execution_count": null,
   "id": "34902970-8bbe-4436-8412-659a71f3b687",
   "metadata": {},
   "outputs": [],
   "source": [
    "\n",
    "\"\"\"I've always wanted to eat a gallon of ice-cream.\"\"\"\n",
    "\n",
    "\n",
    "\n",
    "\n"
   ]
  },
  {
   "cell_type": "code",
   "execution_count": null,
   "id": "ad30d710-bb8a-4dc8-9d36-f666029477aa",
   "metadata": {},
   "outputs": [
    {
     "data": {
      "text/plain": [
       "str"
      ]
     },
     "execution_count": 44,
     "metadata": {},
     "output_type": "execute_result"
    }
   ],
   "source": [
    "type(multilines)"
   ]
  },
  {
   "cell_type": "code",
   "execution_count": null,
   "id": "eafeb0bc-e753-417f-b7d5-2a1b2ec70e0e",
   "metadata": {},
   "outputs": [
    {
     "name": "stdout",
     "output_type": "stream",
     "text": [
      "\n",
      "The ice cream vanquished \n",
      "my longing for sweets,\n",
      "upon this diet I look away,\n",
      "it no longer existz on this day.\n",
      "\n"
     ]
    }
   ],
   "source": [
    "print(multilines)"
   ]
  },
  {
   "cell_type": "code",
   "execution_count": null,
   "id": "cea7b17e-01fc-478b-bf50-54e40274a2ef",
   "metadata": {},
   "outputs": [
    {
     "name": "stdout",
     "output_type": "stream",
     "text": [
      "Hello\n"
     ]
    }
   ],
   "source": [
    "a = 'Hello World'\n",
    "print(a[0:5])"
   ]
  },
  {
   "cell_type": "code",
   "execution_count": null,
   "id": "30d63d6c-c499-41ac-aaf0-603cc26c4e7e",
   "metadata": {},
   "outputs": [
    {
     "ename": "NameError",
     "evalue": "name 'multilines' is not defined",
     "output_type": "error",
     "traceback": [
      "\u001b[1;31m---------------------------------------------------------------------------\u001b[0m",
      "\u001b[1;31mNameError\u001b[0m                                 Traceback (most recent call last)",
      "Cell \u001b[1;32mIn[41], line 1\u001b[0m\n\u001b[1;32m----> 1\u001b[0m \u001b[38;5;28mtype\u001b[39m(multilines)\n",
      "\u001b[1;31mNameError\u001b[0m: name 'multilines' is not defined"
     ]
    }
   ],
   "source": [
    "type(multilines)"
   ]
  },
  {
   "cell_type": "code",
   "execution_count": null,
   "id": "37a84667-065b-42c8-b220-32568863150d",
   "metadata": {},
   "outputs": [
    {
     "data": {
      "text/plain": [
       "'Hello WorldHello WorldHello World'"
      ]
     },
     "execution_count": 49,
     "metadata": {},
     "output_type": "execute_result"
    }
   ],
   "source": [
    "a*3"
   ]
  },
  {
   "cell_type": "code",
   "execution_count": null,
   "id": "fa69921a-a65f-499e-a95f-3456c615345f",
   "metadata": {},
   "outputs": [
    {
     "data": {
      "text/plain": [
       "[1, 2, 3]"
      ]
     },
     "execution_count": 50,
     "metadata": {},
     "output_type": "execute_result"
    }
   ],
   "source": [
    "# list\n",
    "[1,2,3]"
   ]
  },
  {
   "cell_type": "code",
   "execution_count": null,
   "id": "452af4a9-e8e5-4350-b62b-002cc5f8a446",
   "metadata": {},
   "outputs": [],
   "source": [
    "Ice_Cream=['Cookie Dough','Strawberry', 'Chocolate']\n"
   ]
  },
  {
   "cell_type": "code",
   "execution_count": null,
   "id": "4162ca40-3e6d-4004-b9ee-c997cb9e3898",
   "metadata": {},
   "outputs": [
    {
     "data": {
      "text/plain": [
       "['Cookie Dough', 'Strawberry', 'Chocolate', 'Salted Caramel']"
      ]
     },
     "execution_count": 52,
     "metadata": {},
     "output_type": "execute_result"
    }
   ],
   "source": [
    "Ice_Cream.append('Salted Caramel')\n",
    "Ice_Cream"
   ]
  },
  {
   "cell_type": "code",
   "execution_count": null,
   "id": "b35620cf-d4bf-46f1-9c65-ab0b0377fd3f",
   "metadata": {},
   "outputs": [
    {
     "data": {
      "text/plain": [
       "'Cookie Dough'"
      ]
     },
     "execution_count": 53,
     "metadata": {},
     "output_type": "execute_result"
    }
   ],
   "source": [
    "Ice_Cream[0]"
   ]
  },
  {
   "cell_type": "code",
   "execution_count": null,
   "id": "dae43a39-6686-42fb-9d3b-25636b93e527",
   "metadata": {},
   "outputs": [
    {
     "data": {
      "text/plain": [
       "['Strawberry']"
      ]
     },
     "execution_count": 56,
     "metadata": {},
     "output_type": "execute_result"
    }
   ],
   "source": [
    "Ice_Cream[1:2]"
   ]
  },
  {
   "cell_type": "code",
   "execution_count": null,
   "id": "2dd98430-fb48-4024-83be-e88f1c73deb5",
   "metadata": {},
   "outputs": [
    {
     "data": {
      "text/plain": [
       "['Cookie Dough', 'Strawberry', 'Chocolate', 'Salted Caramel']"
      ]
     },
     "execution_count": 57,
     "metadata": {},
     "output_type": "execute_result"
    }
   ],
   "source": [
    "Ice_Cream"
   ]
  },
  {
   "cell_type": "code",
   "execution_count": null,
   "id": "4ad1586e-0187-4bd0-8431-50dc6f7e2cef",
   "metadata": {},
   "outputs": [],
   "source": [
    "Ice_Cream[0]='Butter Pecan'"
   ]
  },
  {
   "cell_type": "code",
   "execution_count": null,
   "id": "7d269db5-0470-436e-a75a-abbc969a03b9",
   "metadata": {},
   "outputs": [
    {
     "data": {
      "text/plain": [
       "['Butter Pecan', 'Strawberry', 'Chocolate', 'Salted Caramel']"
      ]
     },
     "execution_count": 59,
     "metadata": {},
     "output_type": "execute_result"
    }
   ],
   "source": [
    "Ice_Cream"
   ]
  },
  {
   "cell_type": "code",
   "execution_count": null,
   "id": "e62a8057-279a-48ed-9fa9-bdaa8dfc19cf",
   "metadata": {},
   "outputs": [],
   "source": [
    "# Nested List\n",
    "Utensils = ['Spoon','Plate',['Knife','Fork'], 'Scoops']"
   ]
  },
  {
   "cell_type": "code",
   "execution_count": null,
   "id": "fb1b78aa-2cfd-4a3e-bc34-76b8d8892f2f",
   "metadata": {},
   "outputs": [
    {
     "data": {
      "text/plain": [
       "'Fork'"
      ]
     },
     "execution_count": 86,
     "metadata": {},
     "output_type": "execute_result"
    }
   ],
   "source": [
    "Utensils[2][1]"
   ]
  },
  {
   "cell_type": "code",
   "execution_count": null,
   "id": "8b0910c4-8892-4df5-bde6-126a4a5490e6",
   "metadata": {},
   "outputs": [
    {
     "name": "stdout",
     "output_type": "stream",
     "text": [
      "1\n",
      "2 3 4 5 6\n"
     ]
    },
    {
     "ename": "TypeError",
     "evalue": "'int' object is not subscriptable",
     "output_type": "error",
     "traceback": [
      "\u001b[1;31m---------------------------------------------------------------------------\u001b[0m",
      "\u001b[1;31mTypeError\u001b[0m                                 Traceback (most recent call last)",
      "Cell \u001b[1;32mIn[98], line 8\u001b[0m\n\u001b[0;32m      6\u001b[0m \u001b[38;5;28mprint\u001b[39m(a)\n\u001b[0;32m      7\u001b[0m \u001b[38;5;28mprint\u001b[39m(\u001b[38;5;241m*\u001b[39mb)\n\u001b[1;32m----> 8\u001b[0m \u001b[38;5;28mprint\u001b[39m(a[\u001b[38;5;241m0\u001b[39m])\n",
      "\u001b[1;31mTypeError\u001b[0m: 'int' object is not subscriptable"
     ]
    }
   ],
   "source": [
    "# Tuple (the value of tuple can't be change)\n",
    "# eg Country and State name\n",
    "tuple_scoops= (1,2,3,2,1)\n",
    "type(tuple_scoops)\n",
    "a, *b= (1,2,3,4,5,6)\n",
    "print(a)\n",
    "print(*b)\n"
   ]
  },
  {
   "cell_type": "code",
   "execution_count": null,
   "id": "df257b4b-d39a-4124-8aed-5dd107cf0714",
   "metadata": {},
   "outputs": [
    {
     "data": {
      "text/plain": [
       "1"
      ]
     },
     "execution_count": 90,
     "metadata": {},
     "output_type": "execute_result"
    }
   ],
   "source": [
    "tuple_scoops[0]"
   ]
  },
  {
   "cell_type": "code",
   "execution_count": null,
   "id": "0a0f1583-0835-4e1b-8940-3b37d850da7b",
   "metadata": {},
   "outputs": [
    {
     "ename": "TypeError",
     "evalue": "'int' object is not subscriptable",
     "output_type": "error",
     "traceback": [
      "\u001b[1;31m---------------------------------------------------------------------------\u001b[0m",
      "\u001b[1;31mTypeError\u001b[0m                                 Traceback (most recent call last)",
      "Cell \u001b[1;32mIn[102], line 2\u001b[0m\n\u001b[0;32m      1\u001b[0m a, \u001b[38;5;241m*\u001b[39mb\u001b[38;5;241m=\u001b[39m (\u001b[38;5;241m1\u001b[39m,\u001b[38;5;241m2\u001b[39m,\u001b[38;5;241m3\u001b[39m,\u001b[38;5;241m4\u001b[39m,\u001b[38;5;241m5\u001b[39m,\u001b[38;5;241m6\u001b[39m)\n\u001b[1;32m----> 2\u001b[0m a[\u001b[38;5;241m0\u001b[39m]\n",
      "\u001b[1;31mTypeError\u001b[0m: 'int' object is not subscriptable"
     ]
    }
   ],
   "source": [
    "a, *b= (1,2,3,4,5,6)\n",
    "a[0]\n"
   ]
  },
  {
   "cell_type": "code",
   "execution_count": null,
   "id": "bff447c5-2e1a-453f-a1ac-cc679a45132b",
   "metadata": {},
   "outputs": [
    {
     "name": "stdout",
     "output_type": "stream",
     "text": [
      "{1, 2, 3, 4, 5, 87, 46}\n"
     ]
    }
   ],
   "source": [
    "# sets\n",
    "\n",
    "daily_pints = {1,2,3,4,5,3,2,1,46,87,46}\n",
    "print(daily_pints)"
   ]
  },
  {
   "cell_type": "code",
   "execution_count": null,
   "id": "68784705-2d4c-4795-8793-9a7427326a7a",
   "metadata": {},
   "outputs": [
    {
     "data": {
      "text/plain": [
       "set"
      ]
     },
     "execution_count": 94,
     "metadata": {},
     "output_type": "execute_result"
    }
   ],
   "source": [
    "type(daily_pints)"
   ]
  },
  {
   "cell_type": "code",
   "execution_count": null,
   "id": "852b94e4-065f-4a27-aa50-d941e4841198",
   "metadata": {},
   "outputs": [],
   "source": [
    "Wife_daily_pints = {1,3,5,7,3,24,5,7,3,2,0}"
   ]
  },
  {
   "cell_type": "code",
   "execution_count": null,
   "id": "6e167d9d-1f67-47e4-9cc4-52af3a1e2b1f",
   "metadata": {},
   "outputs": [
    {
     "name": "stdout",
     "output_type": "stream",
     "text": [
      "{0, 1, 2, 3, 4, 5, 7, 46, 87, 24}\n"
     ]
    }
   ],
   "source": [
    "print(daily_pints | Wife_daily_pints)"
   ]
  },
  {
   "cell_type": "code",
   "execution_count": null,
   "id": "b36825eb-32f4-422d-95de-15796ed12a28",
   "metadata": {},
   "outputs": [
    {
     "name": "stdout",
     "output_type": "stream",
     "text": [
      "{1, 2, 3, 5}\n"
     ]
    }
   ],
   "source": [
    "print(daily_pints & Wife_daily_pints)"
   ]
  },
  {
   "cell_type": "code",
   "execution_count": null,
   "id": "9f951f85-23dc-40e4-a722-3277168ea0e4",
   "metadata": {},
   "outputs": [
    {
     "name": "stdout",
     "output_type": "stream",
     "text": [
      "{4, 46, 87}\n"
     ]
    }
   ],
   "source": [
    "print(daily_pints - Wife_daily_pints)"
   ]
  },
  {
   "cell_type": "code",
   "execution_count": null,
   "id": "f17bf8b0-24dd-4c7d-be3e-1521c49e184b",
   "metadata": {},
   "outputs": [],
   "source": []
  },
  {
   "cell_type": "markdown",
   "id": "a1fc0dbb",
   "metadata": {},
   "source": [
    "# Arimetic Operation\n"
   ]
  },
  {
   "cell_type": "code",
   "execution_count": null,
   "id": "90fdd073",
   "metadata": {},
   "outputs": [],
   "source": [
    "# Arimetic operation: + - * / // **\n",
    "a = 10\n",
    "b = 2\n",
    "c= a + b"
   ]
  },
  {
   "cell_type": "code",
   "execution_count": null,
   "id": "c57aae8b",
   "metadata": {},
   "outputs": [
    {
     "name": "stdout",
     "output_type": "stream",
     "text": [
      "10 12\n"
     ]
    }
   ],
   "source": [
    "print(a,c)"
   ]
  },
  {
   "cell_type": "code",
   "execution_count": null,
   "id": "f49d69fb",
   "metadata": {},
   "outputs": [
    {
     "data": {
      "text/plain": [
       "int"
      ]
     },
     "execution_count": 10,
     "metadata": {},
     "output_type": "execute_result"
    }
   ],
   "source": [
    "# Relational Operators >, <, ><=, ==, !=\n",
    "type(c)"
   ]
  },
  {
   "cell_type": "code",
   "execution_count": null,
   "id": "34c69955",
   "metadata": {},
   "outputs": [
    {
     "name": "stdout",
     "output_type": "stream",
     "text": [
      "False\n",
      "True\n",
      "True\n",
      "False\n",
      "True\n"
     ]
    }
   ],
   "source": [
    "y = 3\n",
    "x = 4\n",
    "w =1\n",
    "print(w>x)\n",
    "print(x>=y)\n",
    "print(w<2)\n",
    "print(y==x)\n",
    "print(y!=w)"
   ]
  },
  {
   "cell_type": "code",
   "execution_count": null,
   "id": "25a50227",
   "metadata": {},
   "outputs": [
    {
     "name": "stdout",
     "output_type": "stream",
     "text": [
      "False\n",
      "True\n"
     ]
    }
   ],
   "source": [
    "# Lcgical Operators: And & or, Not\n",
    "a = 10\n",
    "b = 20\n",
    "c = 30\n",
    "print(a<b and c==b)\n",
    "# not(True)= False\n",
    "# not(False)= True\n",
    "print(not(a>b))"
   ]
  },
  {
   "cell_type": "code",
   "execution_count": null,
   "id": "225c087b",
   "metadata": {},
   "outputs": [
    {
     "name": "stdout",
     "output_type": "stream",
     "text": [
      "3\n",
      "2\n"
     ]
    }
   ],
   "source": [
    "# Shortcut Operator: +=, -=, *=, /=\n",
    "a=1\n",
    "b=2\n",
    "c=3\n",
    "a+=b\n",
    "# a+(-)=b <==> a=a+(-)b\n",
    "print(a)\n",
    "a=1\n",
    "c-=a\n",
    "print(c)"
   ]
  },
  {
   "cell_type": "code",
   "execution_count": null,
   "id": "f5192521",
   "metadata": {},
   "outputs": [
    {
     "name": "stdout",
     "output_type": "stream",
     "text": [
      "12\n"
     ]
    }
   ],
   "source": [
    "# Bitwise operator  AND'&', or '|', XOR '^', ~(Not), Left Shift <<, Right shift >>.\n",
    "a=12\n",
    "b=4\n",
    "print(a|b)"
   ]
  },
  {
   "cell_type": "markdown",
   "id": "082e5960",
   "metadata": {},
   "source": [
    "# Type Conversion\n"
   ]
  },
  {
   "cell_type": "code",
   "execution_count": null,
   "id": "9627233b",
   "metadata": {},
   "outputs": [],
   "source": [
    "#Convert from one type to another called *Type casting* i.e int to floats(vice versa)\n",
    "#Complex number cannot be converted but can convert int to complex"
   ]
  },
  {
   "cell_type": "code",
   "execution_count": null,
   "id": "e97b7ea8",
   "metadata": {},
   "outputs": [
    {
     "ename": "TypeError",
     "evalue": "int() argument must be a string, a bytes-like object or a real number, not 'complex'",
     "output_type": "error",
     "traceback": [
      "\u001b[31m---------------------------------------------------------------------------\u001b[39m",
      "\u001b[31mTypeError\u001b[39m                                 Traceback (most recent call last)",
      "\u001b[36mCell\u001b[39m\u001b[36m \u001b[39m\u001b[32mIn[31]\u001b[39m\u001b[32m, line 5\u001b[39m\n\u001b[32m      3\u001b[39m \u001b[38;5;28mint\u001b[39m(\u001b[32m2.43\u001b[39m)\n\u001b[32m      4\u001b[39m \u001b[38;5;28mcomplex\u001b[39m(\u001b[32m10\u001b[39m)\n\u001b[32m----> \u001b[39m\u001b[32m5\u001b[39m \u001b[38;5;28;43mint\u001b[39;49m\u001b[43m(\u001b[49m\u001b[32;43m10\u001b[39;49m\u001b[43m+\u001b[49m\u001b[32;43m0\u001b[39;49m\u001b[43mj\u001b[49m\u001b[43m)\u001b[49m\n",
      "\u001b[31mTypeError\u001b[39m: int() argument must be a string, a bytes-like object or a real number, not 'complex'"
     ]
    }
   ],
   "source": [
    "str(100)\n",
    "int(\"22\")\n",
    "int(2.43)\n",
    "complex(10)\n",
    "int(10+0j)"
   ]
  },
  {
   "cell_type": "code",
   "execution_count": 40,
   "id": "2a02e3c5",
   "metadata": {},
   "outputs": [
    {
     "ename": "KeyboardInterrupt",
     "evalue": "Interrupted by user",
     "output_type": "error",
     "traceback": [
      "\u001b[31m---------------------------------------------------------------------------\u001b[39m",
      "\u001b[31mKeyboardInterrupt\u001b[39m                         Traceback (most recent call last)",
      "\u001b[36mCell\u001b[39m\u001b[36m \u001b[39m\u001b[32mIn[40]\u001b[39m\u001b[32m, line 2\u001b[39m\n\u001b[32m      1\u001b[39m \u001b[38;5;28;01mtry\u001b[39;00m:\n\u001b[32m----> \u001b[39m\u001b[32m2\u001b[39m     a = \u001b[38;5;28mint\u001b[39m(\u001b[38;5;28;43minput\u001b[39;49m\u001b[43m(\u001b[49m\u001b[33;43m\"\u001b[39;49m\u001b[33;43mEnter first number: \u001b[39;49m\u001b[33;43m\"\u001b[39;49m\u001b[43m)\u001b[49m)\n\u001b[32m      3\u001b[39m     b = \u001b[38;5;28mint\u001b[39m(\u001b[38;5;28minput\u001b[39m(\u001b[33m\"\u001b[39m\u001b[33mEnter second number: \u001b[39m\u001b[33m\"\u001b[39m))\n\u001b[32m      4\u001b[39m     avg = (a + b) / \u001b[32m2\u001b[39m\n",
      "\u001b[36mFile \u001b[39m\u001b[32m~\\AppData\\Roaming\\Python\\Python313\\site-packages\\ipykernel\\kernelbase.py:1282\u001b[39m, in \u001b[36mKernel.raw_input\u001b[39m\u001b[34m(self, prompt)\u001b[39m\n\u001b[32m   1280\u001b[39m     msg = \u001b[33m\"\u001b[39m\u001b[33mraw_input was called, but this frontend does not support input requests.\u001b[39m\u001b[33m\"\u001b[39m\n\u001b[32m   1281\u001b[39m     \u001b[38;5;28;01mraise\u001b[39;00m StdinNotImplementedError(msg)\n\u001b[32m-> \u001b[39m\u001b[32m1282\u001b[39m \u001b[38;5;28;01mreturn\u001b[39;00m \u001b[38;5;28;43mself\u001b[39;49m\u001b[43m.\u001b[49m\u001b[43m_input_request\u001b[49m\u001b[43m(\u001b[49m\n\u001b[32m   1283\u001b[39m \u001b[43m    \u001b[49m\u001b[38;5;28;43mstr\u001b[39;49m\u001b[43m(\u001b[49m\u001b[43mprompt\u001b[49m\u001b[43m)\u001b[49m\u001b[43m,\u001b[49m\n\u001b[32m   1284\u001b[39m \u001b[43m    \u001b[49m\u001b[38;5;28;43mself\u001b[39;49m\u001b[43m.\u001b[49m\u001b[43m_parent_ident\u001b[49m\u001b[43m[\u001b[49m\u001b[33;43m\"\u001b[39;49m\u001b[33;43mshell\u001b[39;49m\u001b[33;43m\"\u001b[39;49m\u001b[43m]\u001b[49m\u001b[43m,\u001b[49m\n\u001b[32m   1285\u001b[39m \u001b[43m    \u001b[49m\u001b[38;5;28;43mself\u001b[39;49m\u001b[43m.\u001b[49m\u001b[43mget_parent\u001b[49m\u001b[43m(\u001b[49m\u001b[33;43m\"\u001b[39;49m\u001b[33;43mshell\u001b[39;49m\u001b[33;43m\"\u001b[39;49m\u001b[43m)\u001b[49m\u001b[43m,\u001b[49m\n\u001b[32m   1286\u001b[39m \u001b[43m    \u001b[49m\u001b[43mpassword\u001b[49m\u001b[43m=\u001b[49m\u001b[38;5;28;43;01mFalse\u001b[39;49;00m\u001b[43m,\u001b[49m\n\u001b[32m   1287\u001b[39m \u001b[43m\u001b[49m\u001b[43m)\u001b[49m\n",
      "\u001b[36mFile \u001b[39m\u001b[32m~\\AppData\\Roaming\\Python\\Python313\\site-packages\\ipykernel\\kernelbase.py:1325\u001b[39m, in \u001b[36mKernel._input_request\u001b[39m\u001b[34m(self, prompt, ident, parent, password)\u001b[39m\n\u001b[32m   1322\u001b[39m \u001b[38;5;28;01mexcept\u001b[39;00m \u001b[38;5;167;01mKeyboardInterrupt\u001b[39;00m:\n\u001b[32m   1323\u001b[39m     \u001b[38;5;66;03m# re-raise KeyboardInterrupt, to truncate traceback\u001b[39;00m\n\u001b[32m   1324\u001b[39m     msg = \u001b[33m\"\u001b[39m\u001b[33mInterrupted by user\u001b[39m\u001b[33m\"\u001b[39m\n\u001b[32m-> \u001b[39m\u001b[32m1325\u001b[39m     \u001b[38;5;28;01mraise\u001b[39;00m \u001b[38;5;167;01mKeyboardInterrupt\u001b[39;00m(msg) \u001b[38;5;28;01mfrom\u001b[39;00m\u001b[38;5;250m \u001b[39m\u001b[38;5;28;01mNone\u001b[39;00m\n\u001b[32m   1326\u001b[39m \u001b[38;5;28;01mexcept\u001b[39;00m \u001b[38;5;167;01mException\u001b[39;00m:\n\u001b[32m   1327\u001b[39m     \u001b[38;5;28mself\u001b[39m.log.warning(\u001b[33m\"\u001b[39m\u001b[33mInvalid Message:\u001b[39m\u001b[33m\"\u001b[39m, exc_info=\u001b[38;5;28;01mTrue\u001b[39;00m)\n",
      "\u001b[31mKeyboardInterrupt\u001b[39m: Interrupted by user"
     ]
    }
   ],
   "source": [
    "try:\n",
    "    a = int(input(\"Enter first number: \"))\n",
    "    b = int(input(\"Enter second number: \"))\n",
    "    avg = (a + b) / 2\n",
    "    print(\"Average of given two numbers:\", avg)\n",
    "except ValueError:\n",
    "    print(\"Please enter valid integers only.\")\n"
   ]
  },
  {
   "cell_type": "code",
   "execution_count": 1,
   "id": "ef9e6912",
   "metadata": {},
   "outputs": [
    {
     "ename": "ValueError",
     "evalue": "could not convert string to float: ''",
     "output_type": "error",
     "traceback": [
      "\u001b[31m---------------------------------------------------------------------------\u001b[39m",
      "\u001b[31mValueError\u001b[39m                                Traceback (most recent call last)",
      "\u001b[36mCell\u001b[39m\u001b[36m \u001b[39m\u001b[32mIn[1]\u001b[39m\u001b[32m, line 1\u001b[39m\n\u001b[32m----> \u001b[39m\u001b[32m1\u001b[39m radius = \u001b[38;5;28;43mfloat\u001b[39;49m\u001b[43m(\u001b[49m\u001b[38;5;28;43minput\u001b[39;49m\u001b[43m(\u001b[49m\u001b[33;43m\"\u001b[39;49m\u001b[33;43mEnter radius : \u001b[39;49m\u001b[33;43m\"\u001b[39;49m\u001b[43m)\u001b[49m\u001b[43m)\u001b[49m\n\u001b[32m      2\u001b[39m area = \u001b[32m3.1412\u001b[39m * radius * radius\n\u001b[32m      3\u001b[39m \u001b[38;5;28mprint\u001b[39m(\u001b[33m\"\u001b[39m\u001b[33mArea of Circle :\u001b[39m\u001b[33m\"\u001b[39m, area)\n",
      "\u001b[31mValueError\u001b[39m: could not convert string to float: ''"
     ]
    }
   ],
   "source": [
    "radius = float(input(\"Enter radius : \"))\n",
    "area = 3.1412 * radius * radiusCircumference = 2*3.1412*radius\n",
    "\n",
    "print(\"Area of Circle :\", area)\n",
    "print(\"Circumference of circle :\",circumference"
   ]
  },
  {
   "cell_type": "markdown",
   "id": "8d09e4c5",
   "metadata": {},
   "source": [
    "# Condition Statment in python"
   ]
  },
  {
   "cell_type": "code",
   "execution_count": 2,
   "id": "89f3a241",
   "metadata": {},
   "outputs": [
    {
     "ename": "ValueError",
     "evalue": "invalid literal for int() with base 10: ''",
     "output_type": "error",
     "traceback": [
      "\u001b[31m---------------------------------------------------------------------------\u001b[39m",
      "\u001b[31mValueError\u001b[39m                                Traceback (most recent call last)",
      "\u001b[36mCell\u001b[39m\u001b[36m \u001b[39m\u001b[32mIn[2]\u001b[39m\u001b[32m, line 2\u001b[39m\n\u001b[32m      1\u001b[39m \u001b[38;5;66;03m# If statement\u001b[39;00m\n\u001b[32m----> \u001b[39m\u001b[32m2\u001b[39m x=\u001b[38;5;28;43mint\u001b[39;49m\u001b[43m(\u001b[49m\u001b[38;5;28;43minput\u001b[39;49m\u001b[43m(\u001b[49m\u001b[33;43m\"\u001b[39;49m\u001b[33;43mWhat\u001b[39;49m\u001b[33;43m'\u001b[39;49m\u001b[33;43ms x?\u001b[39;49m\u001b[33;43m\"\u001b[39;49m\u001b[43m)\u001b[49m\u001b[43m)\u001b[49m\n\u001b[32m      3\u001b[39m y=\u001b[38;5;28mint\u001b[39m(\u001b[38;5;28minput\u001b[39m(\u001b[33m\"\u001b[39m\u001b[33mWhat\u001b[39m\u001b[33m'\u001b[39m\u001b[33ms y?\u001b[39m\u001b[33m\"\u001b[39m))\n\u001b[32m      4\u001b[39m \u001b[38;5;28;01mif\u001b[39;00m x<y:\n",
      "\u001b[31mValueError\u001b[39m: invalid literal for int() with base 10: ''"
     ]
    }
   ],
   "source": [
    "# If statement\n",
    "x=int(input(\"What's x?\"))\n",
    "y=int(input(\"What's y?\"))\n",
    "if x<y:\n",
    "    print(\"x is less than y\")\n"
   ]
  },
  {
   "cell_type": "code",
   "execution_count": null,
   "id": "654d193c",
   "metadata": {},
   "outputs": [],
   "source": [
    "x=int(input(\"What's x?\"))\n",
    "y=int(input(\"What's y?\"))\n",
    "if x<y:\n",
    "    print(\"x is less than y\")\n",
    "if x>y:\n",
    "    print(\"x is greater than y\")\n",
    "if x==y:\n",
    "    print(\"x is equal to than y\")\n",
    " "
   ]
  },
  {
   "cell_type": "code",
   "execution_count": null,
   "id": "add98743",
   "metadata": {},
   "outputs": [],
   "source": [
    "# Nested If\n",
    "a=int(input(\"Enter value 1: \"))\n",
    "b=int(input(\"Enter value 2:\" ))\n",
    "if(a!=b):\n",
    "    if(a>b):\n",
    "        print(\"a is biggest\")\n",
    "    else:   \n",
    "        print(\"b is biggest\")\n",
    "else:\n",
    "      print(\"Both value are same \")         \n"
   ]
  },
  {
   "cell_type": "code",
   "execution_count": null,
   "id": "7baf0af7",
   "metadata": {},
   "outputs": [],
   "source": [
    "a = int (input(\"Enter value 1: \"))\n",
    "b = int (input(\"Enter value 2: \"))\n",
    "if a>b:\n",
    "    print(a, \"is biggest\")\n",
    "elif a==b:\n",
    "    print(\"Both the given values are same\")\n",
    "else:\n",
    "    print(b, \"is biggest\")"
   ]
  },
  {
   "cell_type": "code",
   "execution_count": null,
   "id": "88ce3643",
   "metadata": {},
   "outputs": [
    {
     "name": "stdout",
     "output_type": "stream",
     "text": [
      "Hello\n",
      "Hello\n",
      "Hello\n"
     ]
    }
   ],
   "source": [
    "# while loop\n",
    "i = 0\n",
    "while i<3:\n",
    "    print(\"Hello\")\n",
    "    i+=1\n"
   ]
  },
  {
   "cell_type": "code",
   "execution_count": null,
   "id": "9509b03e",
   "metadata": {},
   "outputs": [
    {
     "name": "stdout",
     "output_type": "stream",
     "text": [
      "1\n",
      "2\n",
      "3\n",
      "4\n",
      "No Break\n",
      "\n"
     ]
    }
   ],
   "source": [
    "i=0\n",
    "while i<4:\n",
    "    i+=1\n",
    "    print(i)\n",
    "else:\n",
    "     print(\"No Break\\n\")\n",
    "     "
   ]
  },
  {
   "cell_type": "code",
   "execution_count": 3,
   "id": "c12c3e15",
   "metadata": {},
   "outputs": [
    {
     "name": "stdout",
     "output_type": "stream",
     "text": [
      "1\n",
      "3\n",
      "6\n",
      "10\n"
     ]
    }
   ],
   "source": [
    "# For loop\n",
    "total= 0\n",
    "for i in range(1,5):\n",
    " total=total+i\n",
    " print(total)\n"
   ]
  },
  {
   "cell_type": "code",
   "execution_count": 4,
   "id": "5605e1c4",
   "metadata": {},
   "outputs": [
    {
     "name": "stdout",
     "output_type": "stream",
     "text": [
      "John\n",
      "Ron\n",
      "Harry\n"
     ]
    }
   ],
   "source": [
    "students=[\"John\",\"Harry\",\"Ron\"]\n",
    "print(students[0])\n",
    "print(students[2])\n",
    "print(students[1])"
   ]
  },
  {
   "cell_type": "code",
   "execution_count": 6,
   "id": "bde540c7",
   "metadata": {},
   "outputs": [
    {
     "name": "stdout",
     "output_type": "stream",
     "text": [
      "['John', 'Harry', 'Ron', 'Ismail', 'Ismail']\n"
     ]
    }
   ],
   "source": [
    "students.append(\"Ismail\")\n",
    "print(students)"
   ]
  },
  {
   "cell_type": "code",
   "execution_count": 1,
   "id": "46d7642e",
   "metadata": {},
   "outputs": [
    {
     "name": "stdout",
     "output_type": "stream",
     "text": [
      "0\n",
      "1\n",
      "2\n",
      "3\n",
      "4\n",
      "5\n",
      "6\n",
      "7\n",
      "8\n",
      "9\n",
      "10\n"
     ]
    }
   ],
   "source": [
    "# write a program to find the sum of first 10 natural numbers\n",
    "i = 0\n",
    "while i<11:\n",
    "    print(i)\n",
    "    i+=1"
   ]
  },
  {
   "cell_type": "code",
   "execution_count": null,
   "id": "25524daa",
   "metadata": {},
   "outputs": [
    {
     "name": "stdout",
     "output_type": "stream",
     "text": [
      "🎯 Welcome to the Number Guessing Game!\n",
      "I'm thinking of a number between 1 and 100...\n"
     ]
    }
   ],
   "source": [
    "import random\n",
    "\n",
    "print(\"🎯 Welcome to the Number Guessing Game!\")\n",
    "print(\"I'm thinking of a number between 1 and 100...\")\n",
    "\n",
    "# Generate a random number\n",
    "secret_number = random.randint(1, 100)\n",
    "attempts = 0\n",
    "\n",
    "while True:\n",
    "    guess = input(\"Enter your guess: \")\n",
    "\n",
    "    if not guess.isdigit():\n",
    "        print(\"Please enter a valid number!\")\n",
    "        continue\n",
    "\n",
    "    guess = int(guess)\n",
    "    attempts += 1\n",
    "\n",
    "    if guess < secret_number:\n",
    "        print(\"Too low! Try again.\")\n",
    "    elif guess > secret_number:\n",
    "        print(\"Too high! Try again.\")\n",
    "    else:\n",
    "        print(f\"🎉 Correct! The number was {secret_number}.\")\n",
    "        print(f\"You guessed it in {attempts} tries.\")\n",
    "        break\n"
   ]
  },
  {
   "cell_type": "code",
   "execution_count": null,
   "id": "9c13555a",
   "metadata": {},
   "outputs": [],
   "source": [
    "n = int(input(\"Enter any number : \"))\n",
    "total = 0\n",
    "while n>0:\n",
    "    d = n%10\n",
    "    total = total + d\n",
    "    n = n//10\n",
    "    print(\"Sum of the digits :\",total )\n"
   ]
  }
 ],
 "metadata": {
  "kernelspec": {
   "display_name": "Python 3",
   "language": "python",
   "name": "python3"
  },
  "language_info": {
   "codemirror_mode": {
    "name": "ipython",
    "version": 3
   },
   "file_extension": ".py",
   "mimetype": "text/x-python",
   "name": "python",
   "nbconvert_exporter": "python",
   "pygments_lexer": "ipython3",
   "version": "3.13.4"
  }
 },
 "nbformat": 4,
 "nbformat_minor": 5
}
