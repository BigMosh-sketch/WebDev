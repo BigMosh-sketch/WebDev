{
 "cells": [
  {
   "cell_type": "markdown",
   "id": "8eace798-16b6-49bb-bf82-c793cd27cf69",
   "metadata": {},
   "source": [
    "# Variables is a container that store a value\n",
    "a = 12\n",
    "\n",
    "print(a)"
   ]
  },
  {
   "cell_type": "code",
   "execution_count": 11,
   "id": "08d36f2a-d9fc-49b7-8362-b06f104b7ed0",
   "metadata": {},
   "outputs": [
    {
     "name": "stdout",
     "output_type": "stream",
     "text": [
      "22\n"
     ]
    }
   ],
   "source": [
    "x=22\n",
    "print(x)"
   ]
  },
  {
   "cell_type": "code",
   "execution_count": 12,
   "id": "13babca5-ada4-426a-985a-e2e38c754e25",
   "metadata": {},
   "outputs": [
    {
     "data": {
      "text/plain": [
       "int"
      ]
     },
     "execution_count": 12,
     "metadata": {},
     "output_type": "execute_result"
    }
   ],
   "source": [
    "type(x)"
   ]
  },
  {
   "cell_type": "code",
   "execution_count": 13,
   "id": "9bce4f5a-791c-4883-9efd-e1db65c4ef47",
   "metadata": {},
   "outputs": [
    {
     "ename": "SyntaxError",
     "evalue": "invalid syntax (2749781430.py, line 1)",
     "output_type": "error",
     "traceback": [
      "\u001b[1;36m  Cell \u001b[1;32mIn[13], line 1\u001b[1;36m\u001b[0m\n\u001b[1;33m    class(x)\u001b[0m\n\u001b[1;37m         ^\u001b[0m\n\u001b[1;31mSyntaxError\u001b[0m\u001b[1;31m:\u001b[0m invalid syntax\n"
     ]
    }
   ],
   "source": [
    "class(x)"
   ]
  },
  {
   "cell_type": "code",
   "execution_count": 14,
   "id": "1594b8ce-eba2-46ca-95b7-901cc3a26f36",
   "metadata": {},
   "outputs": [],
   "source": [
    "y=\"chocolate\""
   ]
  },
  {
   "cell_type": "code",
   "execution_count": 15,
   "id": "de441837-2a95-430d-915f-c5fba1bfe493",
   "metadata": {},
   "outputs": [
    {
     "name": "stdout",
     "output_type": "stream",
     "text": [
      "chocolate\n"
     ]
    }
   ],
   "source": [
    "print(y)"
   ]
  },
  {
   "cell_type": "code",
   "execution_count": 16,
   "id": "4afaab4a-59a0-42f8-a149-cb030f1abaf7",
   "metadata": {},
   "outputs": [
    {
     "name": "stdout",
     "output_type": "stream",
     "text": [
      "Mint chocolate chip\n"
     ]
    }
   ],
   "source": [
    "y='Mint chocolate chip'\n",
    "print(y)"
   ]
  },
  {
   "cell_type": "code",
   "execution_count": 17,
   "id": "cc5046af-55c5-41b0-8a19-e3e2c3b9d30f",
   "metadata": {},
   "outputs": [
    {
     "name": "stdout",
     "output_type": "stream",
     "text": [
      "Chocolate\n",
      "Vanilla\n",
      "Rocky Road\n"
     ]
    }
   ],
   "source": [
    "x,y,z = 'Chocolate','Vanilla','Rocky Road'\n",
    "print(x)\n",
    "print(y)\n",
    "print(z)"
   ]
  },
  {
   "cell_type": "code",
   "execution_count": 19,
   "id": "f0ee4779-cb42-4f90-a78c-2b96600a1838",
   "metadata": {},
   "outputs": [
    {
     "name": "stdout",
     "output_type": "stream",
     "text": [
      "Root Bear float\n",
      "Root Bear float\n",
      "Root Bear float\n"
     ]
    }
   ],
   "source": [
    "a=b=c= 'Root Bear float'\n",
    "print(a)\n",
    "print(b)\n",
    "print(c)"
   ]
  },
  {
   "cell_type": "code",
   "execution_count": 21,
   "id": "18e3d01c-9404-4e1f-b7f2-e3913e3dc45f",
   "metadata": {},
   "outputs": [
    {
     "name": "stdout",
     "output_type": "stream",
     "text": [
      "Chocolate\n",
      "Vanilla\n",
      "Rocky Road\n"
     ]
    }
   ],
   "source": [
    "ice_cream = ['Chocolate','Vanilla','Rocky Road']\n",
    "x,y,z= ice_cream\n",
    "print(x)\n",
    "print(y)\n",
    "print(z)\n"
   ]
  },
  {
   "cell_type": "markdown",
   "id": "e110282f-d59c-42bf-90b2-074efb7ab17a",
   "metadata": {},
   "source": [
    "# Different ways to write python variables name\n",
    "\n"
   ]
  },
  {
   "cell_type": "code",
   "execution_count": null,
   "id": "baf94a00-c26e-4aea-b46f-a7bf92d5946b",
   "metadata": {},
   "outputs": [],
   "source": [
    "#Snake case\n",
    "test_variable_case ='vanilla swirl'"
   ]
  },
  {
   "cell_type": "code",
   "execution_count": null,
   "id": "4f0880ff-63ca-4138-9cc7-ce433fbd966d",
   "metadata": {},
   "outputs": [],
   "source": [
    "# Pascal Case\n",
    "TestVariableCase = 'Vanilla Swirl'"
   ]
  },
  {
   "cell_type": "code",
   "execution_count": null,
   "id": "c661efe5-4983-49d8-b98c-55962657a1e8",
   "metadata": {},
   "outputs": [],
   "source": [
    "# Camel Case\n",
    "testVariableCase = 'Vanilla swirl'"
   ]
  },
  {
   "cell_type": "code",
   "execution_count": 22,
   "id": "882c77f1-8b65-4384-a5f8-7ef83df9bd9a",
   "metadata": {},
   "outputs": [
    {
     "ename": "SyntaxError",
     "evalue": "invalid decimal literal (3012287140.py, line 4)",
     "output_type": "error",
     "traceback": [
      "\u001b[1;36m  Cell \u001b[1;32mIn[22], line 4\u001b[1;36m\u001b[0m\n\u001b[1;33m    2testvariable = 'Vanilla Swirl'\u001b[0m\n\u001b[1;37m    ^\u001b[0m\n\u001b[1;31mSyntaxError\u001b[0m\u001b[1;31m:\u001b[0m invalid decimal literal\n"
     ]
    }
   ],
   "source": [
    "# others\n",
    "_testvariable = 'Vanilla Swirl'\n",
    "testvariable2 = 'Vanilla Swirl'\n",
    "\n",
    "\n"
   ]
  },
  {
   "cell_type": "code",
   "execution_count": 23,
   "id": "341f23f2-10c9-4d1f-bc6d-e3dfb378ca8b",
   "metadata": {},
   "outputs": [
    {
     "ename": "TypeError",
     "evalue": "can only concatenate str (not \"int\") to str",
     "output_type": "error",
     "traceback": [
      "\u001b[1;31m---------------------------------------------------------------------------\u001b[0m",
      "\u001b[1;31mTypeError\u001b[0m                                 Traceback (most recent call last)",
      "Cell \u001b[1;32mIn[23], line 1\u001b[0m\n\u001b[1;32m----> 1\u001b[0m x \u001b[38;5;241m=\u001b[39m \u001b[38;5;124m'\u001b[39m\u001b[38;5;124mIce cream is my favorite\u001b[39m\u001b[38;5;124m'\u001b[39m \u001b[38;5;241m+\u001b[39m  \u001b[38;5;241m2\u001b[39m\n\u001b[0;32m      2\u001b[0m \u001b[38;5;28mprint\u001b[39m(x)\n",
      "\u001b[1;31mTypeError\u001b[0m: can only concatenate str (not \"int\") to str"
     ]
    }
   ],
   "source": [
    "# string + int = not acceptable\n",
    "x = 'Ice cream is my favorite' +  2\n",
    "print(x)"
   ]
  },
  {
   "cell_type": "code",
   "execution_count": 26,
   "id": "29749a6c-fc11-47f0-a62b-fbc9f3c07304",
   "metadata": {},
   "outputs": [
    {
     "name": "stdout",
     "output_type": "stream",
     "text": [
      "Ice cream is my favorite.\n",
      "Íce Cream is  my favorite\n"
     ]
    }
   ],
   "source": [
    "#  string + string = acceptable\n",
    "x = 'Ice cream is my favorite' +  '.'\n",
    "print(x)\n",
    "\n",
    "\n",
    "\n",
    "x = 'Íce Cream'\n",
    "y = ' is '\n",
    "z = ' my favorite'\n",
    "print (x+y+z)"
   ]
  },
  {
   "cell_type": "code",
   "execution_count": 25,
   "id": "dc5a5528-1f87-46b3-a08a-3a7fd7ff4197",
   "metadata": {},
   "outputs": [
    {
     "name": "stdout",
     "output_type": "stream",
     "text": [
      "3\n"
     ]
    }
   ],
   "source": [
    "# int + int = acceptable\n",
    "y = 1 + 2\n",
    "print (y)"
   ]
  },
  {
   "cell_type": "markdown",
   "id": "ab328641-d579-4e35-96c1-559016376073",
   "metadata": {},
   "source": [
    "# Data Types\n"
   ]
  },
  {
   "cell_type": "code",
   "execution_count": 30,
   "id": "1e61b5bd-0808-4ba6-8cf5-4952ab5fe659",
   "metadata": {},
   "outputs": [
    {
     "data": {
      "text/plain": [
       "complex"
      ]
     },
     "execution_count": 30,
     "metadata": {},
     "output_type": "execute_result"
    }
   ],
   "source": [
    "# int , float , Complex \n",
    "type(-12)\n",
    "type (10.2)\n",
    "type(3 + 45j)"
   ]
  },
  {
   "cell_type": "code",
   "execution_count": 38,
   "id": "93600ee6-b845-457e-b51c-80289a71a413",
   "metadata": {},
   "outputs": [
    {
     "data": {
      "text/plain": [
       "bool"
      ]
     },
     "execution_count": 38,
     "metadata": {},
     "output_type": "execute_result"
    }
   ],
   "source": [
    "# Boolean\n",
    "\n",
    "type(False)\n",
    "type(1>2)\n"
   ]
  },
  {
   "cell_type": "code",
   "execution_count": 39,
   "id": "cfe6c1b4-6ed4-4692-9578-20ee576a7e09",
   "metadata": {},
   "outputs": [],
   "source": [
    "# strings\n",
    "'Single Quote'\n",
    "'Double Quote'\n"
   ]
  },
  {
   "cell_type": "code",
   "execution_count": 42,
   "id": "8f654469-79dc-40a0-a6bb-1c8033daabec",
   "metadata": {},
   "outputs": [],
   "source": [
    "multilines  = \"\"\"\n",
    "The ice cream vanquished \n",
    "my longing for sweets,\n",
    "upon this diet I look away,\n",
    "it no longer existz on this day.\n",
    "\"\"\""
   ]
  },
  {
   "cell_type": "code",
   "execution_count": null,
   "id": "34902970-8bbe-4436-8412-659a71f3b687",
   "metadata": {},
   "outputs": [],
   "source": [
    "\n",
    "\"\"\"I've always wanted to eat a gallon of ice-cream.\"\"\"\n",
    "\n",
    "\n",
    "\n",
    "\n"
   ]
  },
  {
   "cell_type": "code",
   "execution_count": 44,
   "id": "ad30d710-bb8a-4dc8-9d36-f666029477aa",
   "metadata": {},
   "outputs": [
    {
     "data": {
      "text/plain": [
       "str"
      ]
     },
     "execution_count": 44,
     "metadata": {},
     "output_type": "execute_result"
    }
   ],
   "source": [
    "type(multilines)"
   ]
  },
  {
   "cell_type": "code",
   "execution_count": 43,
   "id": "eafeb0bc-e753-417f-b7d5-2a1b2ec70e0e",
   "metadata": {},
   "outputs": [
    {
     "name": "stdout",
     "output_type": "stream",
     "text": [
      "\n",
      "The ice cream vanquished \n",
      "my longing for sweets,\n",
      "upon this diet I look away,\n",
      "it no longer existz on this day.\n",
      "\n"
     ]
    }
   ],
   "source": [
    "print(multilines)"
   ]
  },
  {
   "cell_type": "code",
   "execution_count": 48,
   "id": "cea7b17e-01fc-478b-bf50-54e40274a2ef",
   "metadata": {},
   "outputs": [
    {
     "name": "stdout",
     "output_type": "stream",
     "text": [
      "Hello\n"
     ]
    }
   ],
   "source": [
    "a = 'Hello World'\n",
    "print(a[0:5])"
   ]
  },
  {
   "cell_type": "code",
   "execution_count": 41,
   "id": "30d63d6c-c499-41ac-aaf0-603cc26c4e7e",
   "metadata": {},
   "outputs": [
    {
     "ename": "NameError",
     "evalue": "name 'multilines' is not defined",
     "output_type": "error",
     "traceback": [
      "\u001b[1;31m---------------------------------------------------------------------------\u001b[0m",
      "\u001b[1;31mNameError\u001b[0m                                 Traceback (most recent call last)",
      "Cell \u001b[1;32mIn[41], line 1\u001b[0m\n\u001b[1;32m----> 1\u001b[0m \u001b[38;5;28mtype\u001b[39m(multilines)\n",
      "\u001b[1;31mNameError\u001b[0m: name 'multilines' is not defined"
     ]
    }
   ],
   "source": [
    "type(multilines)"
   ]
  },
  {
   "cell_type": "code",
   "execution_count": 49,
   "id": "37a84667-065b-42c8-b220-32568863150d",
   "metadata": {},
   "outputs": [
    {
     "data": {
      "text/plain": [
       "'Hello WorldHello WorldHello World'"
      ]
     },
     "execution_count": 49,
     "metadata": {},
     "output_type": "execute_result"
    }
   ],
   "source": [
    "a*3"
   ]
  },
  {
   "cell_type": "code",
   "execution_count": 50,
   "id": "fa69921a-a65f-499e-a95f-3456c615345f",
   "metadata": {},
   "outputs": [
    {
     "data": {
      "text/plain": [
       "[1, 2, 3]"
      ]
     },
     "execution_count": 50,
     "metadata": {},
     "output_type": "execute_result"
    }
   ],
   "source": [
    "# list\n",
    "[1,2,3]"
   ]
  },
  {
   "cell_type": "code",
   "execution_count": 51,
   "id": "452af4a9-e8e5-4350-b62b-002cc5f8a446",
   "metadata": {},
   "outputs": [],
   "source": [
    "Ice_Cream=['Cookie Dough','Strawberry', 'Chocolate']\n"
   ]
  },
  {
   "cell_type": "code",
   "execution_count": 52,
   "id": "4162ca40-3e6d-4004-b9ee-c997cb9e3898",
   "metadata": {},
   "outputs": [
    {
     "data": {
      "text/plain": [
       "['Cookie Dough', 'Strawberry', 'Chocolate', 'Salted Caramel']"
      ]
     },
     "execution_count": 52,
     "metadata": {},
     "output_type": "execute_result"
    }
   ],
   "source": [
    "Ice_Cream.append('Salted Caramel')\n",
    "Ice_Cream"
   ]
  },
  {
   "cell_type": "code",
   "execution_count": 53,
   "id": "b35620cf-d4bf-46f1-9c65-ab0b0377fd3f",
   "metadata": {},
   "outputs": [
    {
     "data": {
      "text/plain": [
       "'Cookie Dough'"
      ]
     },
     "execution_count": 53,
     "metadata": {},
     "output_type": "execute_result"
    }
   ],
   "source": [
    "Ice_Cream[0]"
   ]
  },
  {
   "cell_type": "code",
   "execution_count": 56,
   "id": "dae43a39-6686-42fb-9d3b-25636b93e527",
   "metadata": {},
   "outputs": [
    {
     "data": {
      "text/plain": [
       "['Strawberry']"
      ]
     },
     "execution_count": 56,
     "metadata": {},
     "output_type": "execute_result"
    }
   ],
   "source": [
    "Ice_Cream[1:2]"
   ]
  },
  {
   "cell_type": "code",
   "execution_count": 57,
   "id": "2dd98430-fb48-4024-83be-e88f1c73deb5",
   "metadata": {},
   "outputs": [
    {
     "data": {
      "text/plain": [
       "['Cookie Dough', 'Strawberry', 'Chocolate', 'Salted Caramel']"
      ]
     },
     "execution_count": 57,
     "metadata": {},
     "output_type": "execute_result"
    }
   ],
   "source": [
    "Ice_Cream"
   ]
  },
  {
   "cell_type": "code",
   "execution_count": 58,
   "id": "4ad1586e-0187-4bd0-8431-50dc6f7e2cef",
   "metadata": {},
   "outputs": [],
   "source": [
    "Ice_Cream[0]='Butter Pecan'"
   ]
  },
  {
   "cell_type": "code",
   "execution_count": 59,
   "id": "7d269db5-0470-436e-a75a-abbc969a03b9",
   "metadata": {},
   "outputs": [
    {
     "data": {
      "text/plain": [
       "['Butter Pecan', 'Strawberry', 'Chocolate', 'Salted Caramel']"
      ]
     },
     "execution_count": 59,
     "metadata": {},
     "output_type": "execute_result"
    }
   ],
   "source": [
    "Ice_Cream"
   ]
  },
  {
   "cell_type": "code",
   "execution_count": 67,
   "id": "e62a8057-279a-48ed-9fa9-bdaa8dfc19cf",
   "metadata": {},
   "outputs": [],
   "source": [
    "# Nested List\n",
    "Utensils = ['Spoon','Plate',['Knife','Fork'], 'Scoops']"
   ]
  },
  {
   "cell_type": "code",
   "execution_count": 86,
   "id": "fb1b78aa-2cfd-4a3e-bc34-76b8d8892f2f",
   "metadata": {},
   "outputs": [
    {
     "data": {
      "text/plain": [
       "'Fork'"
      ]
     },
     "execution_count": 86,
     "metadata": {},
     "output_type": "execute_result"
    }
   ],
   "source": [
    "Utensils[2][1]"
   ]
  },
  {
   "cell_type": "code",
   "execution_count": 98,
   "id": "8b0910c4-8892-4df5-bde6-126a4a5490e6",
   "metadata": {},
   "outputs": [
    {
     "name": "stdout",
     "output_type": "stream",
     "text": [
      "1\n",
      "2 3 4 5 6\n"
     ]
    },
    {
     "ename": "TypeError",
     "evalue": "'int' object is not subscriptable",
     "output_type": "error",
     "traceback": [
      "\u001b[1;31m---------------------------------------------------------------------------\u001b[0m",
      "\u001b[1;31mTypeError\u001b[0m                                 Traceback (most recent call last)",
      "Cell \u001b[1;32mIn[98], line 8\u001b[0m\n\u001b[0;32m      6\u001b[0m \u001b[38;5;28mprint\u001b[39m(a)\n\u001b[0;32m      7\u001b[0m \u001b[38;5;28mprint\u001b[39m(\u001b[38;5;241m*\u001b[39mb)\n\u001b[1;32m----> 8\u001b[0m \u001b[38;5;28mprint\u001b[39m(a[\u001b[38;5;241m0\u001b[39m])\n",
      "\u001b[1;31mTypeError\u001b[0m: 'int' object is not subscriptable"
     ]
    }
   ],
   "source": [
    "# Tuple (the value of tuple can't be change)\n",
    "# eg Country and State name\n",
    "tuple_scoops= (1,2,3,2,1)\n",
    "type(tuple_scoops)\n",
    "a, *b= (1,2,3,4,5,6)\n",
    "print(a)\n",
    "print(*b)\n"
   ]
  },
  {
   "cell_type": "code",
   "execution_count": 90,
   "id": "df257b4b-d39a-4124-8aed-5dd107cf0714",
   "metadata": {},
   "outputs": [
    {
     "data": {
      "text/plain": [
       "1"
      ]
     },
     "execution_count": 90,
     "metadata": {},
     "output_type": "execute_result"
    }
   ],
   "source": [
    "tuple_scoops[0]"
   ]
  },
  {
   "cell_type": "code",
   "execution_count": 102,
   "id": "0a0f1583-0835-4e1b-8940-3b37d850da7b",
   "metadata": {},
   "outputs": [
    {
     "ename": "TypeError",
     "evalue": "'int' object is not subscriptable",
     "output_type": "error",
     "traceback": [
      "\u001b[1;31m---------------------------------------------------------------------------\u001b[0m",
      "\u001b[1;31mTypeError\u001b[0m                                 Traceback (most recent call last)",
      "Cell \u001b[1;32mIn[102], line 2\u001b[0m\n\u001b[0;32m      1\u001b[0m a, \u001b[38;5;241m*\u001b[39mb\u001b[38;5;241m=\u001b[39m (\u001b[38;5;241m1\u001b[39m,\u001b[38;5;241m2\u001b[39m,\u001b[38;5;241m3\u001b[39m,\u001b[38;5;241m4\u001b[39m,\u001b[38;5;241m5\u001b[39m,\u001b[38;5;241m6\u001b[39m)\n\u001b[1;32m----> 2\u001b[0m a[\u001b[38;5;241m0\u001b[39m]\n",
      "\u001b[1;31mTypeError\u001b[0m: 'int' object is not subscriptable"
     ]
    }
   ],
   "source": [
    "a, *b= (1,2,3,4,5,6)\n",
    "a[0]\n"
   ]
  },
  {
   "cell_type": "code",
   "execution_count": 105,
   "id": "bff447c5-2e1a-453f-a1ac-cc679a45132b",
   "metadata": {},
   "outputs": [
    {
     "name": "stdout",
     "output_type": "stream",
     "text": [
      "{1, 2, 3, 4, 5, 87, 46}\n"
     ]
    }
   ],
   "source": [
    "# sets\n",
    "\n",
    "daily_pints = {1,2,3,4,5,3,2,1,46,87,46}\n",
    "print(daily_pints)"
   ]
  },
  {
   "cell_type": "code",
   "execution_count": 94,
   "id": "68784705-2d4c-4795-8793-9a7427326a7a",
   "metadata": {},
   "outputs": [
    {
     "data": {
      "text/plain": [
       "set"
      ]
     },
     "execution_count": 94,
     "metadata": {},
     "output_type": "execute_result"
    }
   ],
   "source": [
    "type(daily_pints)"
   ]
  },
  {
   "cell_type": "code",
   "execution_count": 110,
   "id": "852b94e4-065f-4a27-aa50-d941e4841198",
   "metadata": {},
   "outputs": [],
   "source": [
    "Wife_daily_pints = {1,3,5,7,3,24,5,7,3,2,0}"
   ]
  },
  {
   "cell_type": "code",
   "execution_count": 112,
   "id": "6e167d9d-1f67-47e4-9cc4-52af3a1e2b1f",
   "metadata": {},
   "outputs": [
    {
     "name": "stdout",
     "output_type": "stream",
     "text": [
      "{0, 1, 2, 3, 4, 5, 7, 46, 87, 24}\n"
     ]
    }
   ],
   "source": [
    "print(daily_pints | Wife_daily_pints)"
   ]
  },
  {
   "cell_type": "code",
   "execution_count": 115,
   "id": "b36825eb-32f4-422d-95de-15796ed12a28",
   "metadata": {},
   "outputs": [
    {
     "name": "stdout",
     "output_type": "stream",
     "text": [
      "{1, 2, 3, 5}\n"
     ]
    }
   ],
   "source": [
    "print(daily_pints & Wife_daily_pints)"
   ]
  },
  {
   "cell_type": "code",
   "execution_count": 116,
   "id": "9f951f85-23dc-40e4-a722-3277168ea0e4",
   "metadata": {},
   "outputs": [
    {
     "name": "stdout",
     "output_type": "stream",
     "text": [
      "{4, 46, 87}\n"
     ]
    }
   ],
   "source": [
    "print(daily_pints - Wife_daily_pints)"
   ]
  },
  {
   "cell_type": "code",
   "execution_count": null,
   "id": "f17bf8b0-24dd-4c7d-be3e-1521c49e184b",
   "metadata": {},
   "outputs": [],
   "source": []
  }
 ],
 "metadata": {
  "kernelspec": {
   "display_name": "Python 3 (ipykernel)",
   "language": "python",
   "name": "python3"
  },
  "language_info": {
   "codemirror_mode": {
    "name": "ipython",
    "version": 3
   },
   "file_extension": ".py",
   "mimetype": "text/x-python",
   "name": "python",
   "nbconvert_exporter": "python",
   "pygments_lexer": "ipython3",
   "version": "3.12.7"
  }
 },
 "nbformat": 4,
 "nbformat_minor": 5
}
